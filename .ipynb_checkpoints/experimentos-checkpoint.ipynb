{
 "cells": [
  {
   "cell_type": "markdown",
   "metadata": {},
   "source": [
    "# Correr experimentos\n",
    "En este archivo está el código para correr los experimentos y escribir los resultados en archivos CSV.\n",
    "> Los archivos se guardan en la carpeta _resultados_."
   ]
  },
  {
   "cell_type": "code",
   "execution_count": null,
   "metadata": {},
   "outputs": [],
   "source": [
    "import math, subprocess\n",
    "import pandas as pd\n",
    "import numpy as np\n",
    "from IPython.display import display, clear_output"
   ]
  },
  {
   "cell_type": "markdown",
   "metadata": {},
   "source": [
    "A continuación leemos los datasets en dataframes de Pandas."
   ]
  },
  {
   "cell_type": "code",
   "execution_count": null,
   "metadata": {},
   "outputs": [],
   "source": [
    "def leer_instancia(path_instancia):\n",
    "    with open(path_instancia, \"r\") as f:\n",
    "        return f.read();"
   ]
  },
  {
   "cell_type": "code",
   "execution_count": null,
   "metadata": {
    "tags": []
   },
   "outputs": [],
   "source": [
    "def correr_experimento(threadsArchivos,threadsMaximo,archivos):\n",
    "    \n",
    "    # Crear proceso para ejecutar el codigo.\n",
    "    process = subprocess.Popen([\"./build/ContarPalabras\", str(threadsArchivos),str(threadsMaximo)] + archivos, stderr=subprocess.PIPE, stdout=subprocess.PIPE, stdin=subprocess.PIPE, universal_newlines = True)\n",
    "\n",
    "    # Correr experimento.\n",
    "    exit_code = process.wait()\n",
    "\n",
    "    # Verificar que el proceso no fallo.\n",
    "    if exit_code != 0: raise(F\"Hubo un error en la experimentacion\")\n",
    "        \n",
    "    lecturaTiempos = process.stderr.read().split(\"-\")    \n",
    "    # Leer salida de STDERR con los tiempos de ejecucion de cada metodo.\n",
    "    tiempo_de_ejecucion = list(map(float,lecturaTiempos))\n",
    "    \n",
    "    process.stdin.close();\n",
    "    process.stdout.close();\n",
    "    process.stderr.close();\n",
    "    \n",
    "    return tiempo_de_ejecucion;"
   ]
  },
  {
   "cell_type": "markdown",
   "metadata": {},
   "source": [
    "## Corremos los experimentos\n",
    "Vamos a guardar una tabla con las ejecuciones y sus respectivos tiempos."
   ]
  },
  {
   "cell_type": "code",
   "execution_count": null,
   "metadata": {
    "tags": []
   },
   "outputs": [],
   "source": [
    "experimentos = [];"
   ]
  },
  {
   "cell_type": "markdown",
   "metadata": {},
   "source": [
    "# Experimentos Leer archivos"
   ]
  },
  {
   "cell_type": "markdown",
   "metadata": {},
   "source": [
    "# Experimentos Maximo"
   ]
  },
  {
   "cell_type": "code",
   "execution_count": null,
   "metadata": {},
   "outputs": [],
   "source": [
    "for i in range(1,51):\n",
    "    experimentos.append([\"Maximo\",\"1\",i,[\"todosIguales.txt\"]])\n",
    "    \n",
    "for i in range(1,51):\n",
    "    experimentos.append([\"Maximo\",\"1\",i,[\"letrasInicialUniforme.txt\"]])\n",
    "    \n",
    "for i in range(1,51):\n",
    "    experimentos.append([\"Maximo\",\"1\",i,[\"primeraLetraIgual.txt\"]])\n",
    "    \n",
    "for i in range(1,51):\n",
    "    experimentos.append([\"Maximo\",\"1\",i,[\"todoAleatorio.txt\"]])"
   ]
  },
  {
   "cell_type": "markdown",
   "metadata": {},
   "source": [
    "## Ejecutar los experimentos y guardar los resultados en un archivo CSV.\n",
    "Este paso puede tardar unos minutos hasta terminar de ejecutarse."
   ]
  },
  {
   "cell_type": "code",
   "execution_count": null,
   "metadata": {
    "tags": []
   },
   "outputs": [],
   "source": [
    "columnas = [\"Experimento\",\"tA\", \"tM\", \"archivos\", \"tiempoA\",\"tiempoM\"];\n",
    "filas = [];\n",
    "numero = 1\n",
    "T = 1 # Numero de veces que se ejecuta cada experimento (para mayor fidelidad del tiempo).\n",
    "for experimento in experimentos:\n",
    "    # Voy mostrando que experimento se esta ejecutando.\n",
    "    clear_output(wait=True)\n",
    "    display('Experimento: ' + str(numero) + \"/\" + str(len(experimentos)))\n",
    "    numero += 1\n",
    "    \n",
    "    # Ejecutamos el experimento T veces y obtenemos la mediana.\n",
    "    tiemposA = []\n",
    "    tiemposM = []\n",
    "    for i in range(0, T):\n",
    "        tiempos = correr_experimento(experimento[1], experimento[2], experimento[3]);\n",
    "        tiemposA.append(tiempos[0]);\n",
    "        tiemposM.append(tiempos[1]);\n",
    "    tiempoA = np.median(tiemposA);\n",
    "    tiempoM = np.median(tiemposM);\n",
    "    filas.append([experimento[0], experimento[1], experimento[2], experimento[3], tiempoA, tiempoM]);\n",
    "df_resultado = pd.DataFrame(filas, columns=columnas);\n",
    "df_resultado.to_csv(\"resultado.csv\", index=False, header=True);"
   ]
  },
  {
   "cell_type": "code",
   "execution_count": null,
   "metadata": {},
   "outputs": [],
   "source": []
  },
  {
   "cell_type": "code",
   "execution_count": null,
   "metadata": {},
   "outputs": [],
   "source": []
  }
 ],
 "metadata": {
  "kernelspec": {
   "display_name": "Python 3",
   "language": "python",
   "name": "python3"
  },
  "language_info": {
   "codemirror_mode": {
    "name": "ipython",
    "version": 3
   },
   "file_extension": ".py",
   "mimetype": "text/x-python",
   "name": "python",
   "nbconvert_exporter": "python",
   "pygments_lexer": "ipython3",
   "version": "3.9.5"
  }
 },
 "nbformat": 4,
 "nbformat_minor": 4
}
