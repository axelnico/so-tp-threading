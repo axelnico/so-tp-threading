{
 "cells": [
  {
   "cell_type": "markdown",
   "metadata": {},
   "source": [
    "# Correr experimentos\n",
    "En este archivo está el código para correr los experimentos y escribir los resultados en archivos CSV.\n",
    "> Los archivos se guardan en la carpeta _resultados_."
   ]
  },
  {
   "cell_type": "code",
   "execution_count": 15,
   "metadata": {},
   "outputs": [],
   "source": [
    "import math, subprocess\n",
    "import pandas as pd\n",
    "import numpy as np\n",
    "import string\n",
    "from IPython.display import display, clear_output"
   ]
  },
  {
   "cell_type": "markdown",
   "metadata": {},
   "source": [
    "A continuación leemos los datasets en dataframes de Pandas."
   ]
  },
  {
   "cell_type": "code",
   "execution_count": 16,
   "metadata": {},
   "outputs": [],
   "source": [
    "def leer_instancia(path_instancia):\n",
    "    with open(path_instancia, \"r\") as f:\n",
    "        return f.read();"
   ]
  },
  {
   "cell_type": "code",
   "execution_count": 17,
   "metadata": {
    "tags": []
   },
   "outputs": [],
   "source": [
    "def correr_experimento(threadsArchivos,threadsMaximo,archivos):\n",
    "    \n",
    "    # Crear proceso para ejecutar el codigo.\n",
    "    process = subprocess.Popen([\"./build/ContarPalabras\", str(threadsArchivos),str(threadsMaximo)] + archivos, stderr=subprocess.PIPE, stdout=subprocess.PIPE, stdin=subprocess.PIPE, universal_newlines = True)\n",
    "\n",
    "    # Correr experimento.\n",
    "    exit_code = process.wait()\n",
    "\n",
    "    # Verificar que el proceso no fallo.\n",
    "    if exit_code != 0: raise(F\"Hubo un error en la experimentacion\")\n",
    "        \n",
    "    lecturaTiempos = process.stderr.read().split(\"-\")    \n",
    "    # Leer salida de STDERR con los tiempos de ejecucion de cada metodo.\n",
    "    tiempo_de_ejecucion = list(map(float,lecturaTiempos))\n",
    "    \n",
    "    process.stdin.close();\n",
    "    process.stdout.close();\n",
    "    process.stderr.close();\n",
    "    \n",
    "    return tiempo_de_ejecucion;"
   ]
  },
  {
   "cell_type": "markdown",
   "metadata": {},
   "source": [
    "## Corremos los experimentos\n",
    "Vamos a guardar una tabla con las ejecuciones y sus respectivos tiempos."
   ]
  },
  {
   "cell_type": "code",
<<<<<<< HEAD
   "execution_count": 13,
=======
   "execution_count": 18,
>>>>>>> 4f8c308f7eb8f0850c6f1fc42f13430e7dcf3215
   "metadata": {
    "tags": []
   },
   "outputs": [],
   "source": [
    "experimentos = [];"
   ]
  },
  {
   "cell_type": "markdown",
   "metadata": {},
   "source": [
    "# Experimentos Leer archivos"
   ]
  },
  {
   "cell_type": "code",
   "execution_count": 14,
   "metadata": {},
   "outputs": [],
   "source": [
    "#Mejor caso (todos hash independientes)\n",
    "threads = range(1,51)\n",
    "letters = string.ascii_lowercase\n",
    "files = []\n",
    "for l in letters:\n",
    "    files.append(\"instancias/primeraLetraIgual\" + l + \".txt\")\n",
    "for th in threads:\n",
    "    experimentos.append([\"Archivos-Óptimo\",th,1,files])\n",
    "    "
   ]
  },
  {
   "cell_type": "code",
   "execution_count": 15,
   "metadata": {},
   "outputs": [],
   "source": [
    "#Peor caso (mismo hash todos)\n",
    "threads = range(1,51)\n",
    "letters = string.ascii_lowercase\n",
    "files = []\n",
    "for l in letters:\n",
    "    files.append(\"instancias/primeraLetraIgual\" + \"l\" + \".txt\")\n",
    "for th in threads:\n",
    "    experimentos.append([\"Archivos-MismoHash\",th,1,files])"
   ]
  },
  {
   "cell_type": "code",
   "execution_count": 16,
   "metadata": {},
   "outputs": [
    {
     "name": "stdout",
     "output_type": "stream",
     "text": [
      "['instancias/dummyText1.txt', 'instancias/dummyText2.txt', 'instancias/dummyText3.txt', 'instancias/dummyText4.txt', 'instancias/dummyText5.txt', 'instancias/dummyText6.txt', 'instancias/dummyText7.txt', 'instancias/dummyText8.txt', 'instancias/dummyText9.txt', 'instancias/dummyText10.txt', 'instancias/dummyText11.txt', 'instancias/dummyText12.txt', 'instancias/dummyText13.txt', 'instancias/dummyText14.txt', 'instancias/dummyText15.txt', 'instancias/dummyText16.txt', 'instancias/dummyText17.txt', 'instancias/dummyText18.txt', 'instancias/dummyText19.txt', 'instancias/dummyText20.txt', 'instancias/dummyText21.txt', 'instancias/dummyText22.txt', 'instancias/dummyText23.txt', 'instancias/dummyText24.txt', 'instancias/dummyText25.txt', 'instancias/dummyText26.txt']\n"
     ]
    }
   ],
   "source": [
    "#Caso medio (random)\n",
    "threads = range(1,51)\n",
    "numbers = range(1,27)\n",
    "files = []\n",
    "for n in numbers:\n",
    "    files.append(\"instancias/dummyText\" + str(n) + \".txt\")\n",
    "for th in threads:\n",
    "    experimentos.append([\"Archivos-Random\",th,1,files])"
   ]
  },
  {
   "cell_type": "markdown",
   "metadata": {},
   "source": [
    "# Experimentos Maximo"
   ]
  },
  {
   "cell_type": "code",
   "execution_count": 19,
   "metadata": {},
   "outputs": [],
   "source": [
    "for i in range(1,51):\n",
    "    experimentos.append([\"Maximo\",\"1\",i,[\"todosIguales.txt\"]])\n",
    "    \n",
    "for i in range(1,51):\n",
    "    experimentos.append([\"Maximo\",\"1\",i,[\"letrasInicialUniforme.txt\"]])\n",
    "    \n",
    "for i in range(1,51):\n",
    "    experimentos.append([\"Maximo\",\"1\",i,[\"primeraLetraIgual.txt\"]])\n",
    "    \n",
    "for i in range(1,51):\n",
    "    experimentos.append([\"Maximo\",\"1\",i,[\"todoAleatorio.txt\"]])"
   ]
  },
  {
   "cell_type": "markdown",
   "metadata": {},
   "source": [
    "## Ejecutar los experimentos y guardar los resultados en un archivo CSV.\n",
    "Este paso puede tardar unos minutos hasta terminar de ejecutarse."
   ]
  },
  {
   "cell_type": "code",
<<<<<<< HEAD
   "execution_count": 17,
   "metadata": {},
=======
   "execution_count": 20,
   "metadata": {
    "tags": []
   },
>>>>>>> 4f8c308f7eb8f0850c6f1fc42f13430e7dcf3215
   "outputs": [
    {
     "data": {
      "text/plain": [
<<<<<<< HEAD
       "'Experimento: 150/150'"
=======
       "'Experimento: 50/50'"
>>>>>>> 4f8c308f7eb8f0850c6f1fc42f13430e7dcf3215
      ]
     },
     "metadata": {},
     "output_type": "display_data"
    }
   ],
   "source": [
    "columnas = [\"Experimento\",\"tA\", \"tM\", \"archivos\", \"tiempoA\",\"tiempoM\"];\n",
    "filas = [];\n",
    "numero = 1\n",
    "T = 5 # Numero de veces que se ejecuta cada experimento (para mayor fidelidad del tiempo).\n",
    "for experimento in experimentos:\n",
    "    # Voy mostrando que experimento se esta ejecutando.\n",
    "    clear_output(wait=True)\n",
    "    display('Experimento: ' + str(numero) + \"/\" + str(len(experimentos)))\n",
    "    numero += 1\n",
    "    \n",
    "    # Ejecutamos el experimento T veces y obtenemos la mediana.\n",
    "    tiemposA = []\n",
    "    tiemposM = []\n",
    "    for i in range(0, T):\n",
    "        tiempos = correr_experimento(experimento[1], experimento[2], experimento[3]);\n",
    "        tiemposA.append(tiempos[0]);\n",
    "        tiemposM.append(tiempos[1]);\n",
    "    tiempoA = np.median(tiemposA);\n",
    "    tiempoM = np.median(tiemposM);\n",
    "    filas.append([experimento[0], experimento[1], experimento[2], experimento[3], tiempoA, tiempoM]);\n",
    "df_resultado = pd.DataFrame(filas, columns=columnas);\n",
    "df_resultado.to_csv(\"resultado4.csv\", index=False, header=True);"
   ]
  },
  {
   "cell_type": "code",
   "execution_count": null,
   "metadata": {},
   "outputs": [],
   "source": []
  },
  {
   "cell_type": "code",
   "execution_count": null,
   "metadata": {},
   "outputs": [],
   "source": []
  }
 ],
 "metadata": {
  "kernelspec": {
   "display_name": "Python 3",
   "language": "python",
   "name": "python3"
  },
  "language_info": {
   "codemirror_mode": {
    "name": "ipython",
    "version": 3
   },
   "file_extension": ".py",
   "mimetype": "text/x-python",
   "name": "python",
   "nbconvert_exporter": "python",
   "pygments_lexer": "ipython3",
   "version": "3.9.5"
  }
 },
 "nbformat": 4,
 "nbformat_minor": 4
}
