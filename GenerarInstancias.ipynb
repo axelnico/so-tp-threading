{
 "cells": [
  {
   "cell_type": "markdown",
   "id": "42602ed7-ef72-4c09-9a46-6498bac8507f",
   "metadata": {},
   "source": [
    "# Generar instancias"
   ]
  },
  {
   "cell_type": "code",
   "execution_count": 1,
   "id": "9ae5d8a3-cfb6-4d34-b875-5d7aab0760cc",
   "metadata": {},
   "outputs": [],
   "source": [
    "import random as rnd\n",
    "import string\n",
    "from nltk.corpus import words\n",
    "import functools"
   ]
  },
  {
   "cell_type": "code",
   "execution_count": 6,
   "id": "24e16c61-1b86-4440-8ea6-9eaddadd3f81",
   "metadata": {
    "tags": []
   },
   "outputs": [],
   "source": [
    "texto = \"\"\n",
    "with open(\"todosIguales.txt\", \"w\") as f:\n",
    "    for i in range(1500000):\n",
    "        texto += \"linux\\n\"\n",
    "    f.write(texto)\n"
   ]
  },
  {
   "cell_type": "code",
   "execution_count": 7,
   "id": "eeaeb367-790a-4385-a2a5-1127d4fb851e",
   "metadata": {},
   "outputs": [],
   "source": [
    "letters = string.ascii_lowercase\n",
    "texto = \"\"\n",
    "with open(\"primeraLetraIgual.txt\", \"w\") as f:\n",
    "    for i in range(1500000):\n",
    "        texto += 'l' + ''.join(rnd.choice(letters) for i in range(10)) + \"\\n\"\n",
    "    f.write(texto)"
   ]
  },
  {
   "cell_type": "code",
   "execution_count": 8,
   "id": "ee931ec5-dc1a-4dfc-9464-e432fa1d13ac",
   "metadata": {},
   "outputs": [],
   "source": [
    "letters = string.ascii_lowercase\n",
    "texto = \"\"\n",
    "with open(\"todoAleatorio.txt\", \"w\") as f:\n",
    "    for i in range(1500000):\n",
    "        texto += ''.join(rnd.choice(letters) for i in range(10)) + \"\\n\"\n",
    "    f.write(texto)"
   ]
  },
  {
   "cell_type": "code",
   "execution_count": 9,
   "id": "6f651017-025b-49f3-9ffe-264cc36f011d",
   "metadata": {},
   "outputs": [],
   "source": [
    "letters = string.ascii_lowercase\n",
    "texto = \"\"\n",
    "with open(\"letrasInicialUniforme.txt\", \"w\") as f:\n",
    "    for i in range(1500000):\n",
    "        texto +=  letters[i % len(letters)] + ''.join(rnd.choice(letters) for i in range(10)) + \"\\n\"\n",
    "    f.write(texto)"
   ]
  },
  {
   "cell_type": "markdown",
   "id": "21117b08",
   "metadata": {},
   "source": [
    "Escritura"
   ]
  },
  {
   "cell_type": "code",
   "execution_count": 2,
   "id": "4df67f91",
   "metadata": {},
   "outputs": [],
   "source": [
    "def fileStartingWLetter(letter,fileNameExtra = \"\"):\n",
    "    letters = string.ascii_lowercase\n",
    "    texto = \"\"\n",
    "    with open(\"instancias/primeraLetraIgual\" + letter + fileNameExtra + \".txt\", \"w\") as f:\n",
    "        for i in range(2000):\n",
    "            texto += letter + ''.join(rnd.choice(letters) for i in range(10)) + \"\\n\"\n",
    "        f.write(texto)"
   ]
  },
  {
   "cell_type": "code",
   "execution_count": 8,
   "id": "7bf4742d",
   "metadata": {},
   "outputs": [],
   "source": [
    "letters = string.ascii_lowercase\n",
    "for l in letters:\n",
    "    fileStartingWLetter(l)"
   ]
  },
  {
   "cell_type": "code",
   "execution_count": 3,
   "id": "fa484a84",
   "metadata": {},
   "outputs": [],
   "source": [
    "wordlist = words.words()\n",
    "for i in range(1,27):\n",
    "     with open(\"instancias/dummyText\" + str(i) + \".txt\", \"w\") as f:\n",
    "        text_as_list = rnd.choices(wordlist,k=2000)\n",
    "        texto = functools.reduce(lambda a,b : a.lower()+b.lower()+\"\\n\",text_as_list)\n",
    "        f.write(texto)"
   ]
  },
  {
   "cell_type": "code",
   "execution_count": null,
   "id": "a73abbc2",
   "metadata": {},
   "outputs": [],
   "source": []
  }
 ],
 "metadata": {
  "kernelspec": {
   "display_name": "Python 3",
   "language": "python",
   "name": "python3"
  },
  "language_info": {
   "codemirror_mode": {
    "name": "ipython",
    "version": 3
   },
   "file_extension": ".py",
   "mimetype": "text/x-python",
   "name": "python",
   "nbconvert_exporter": "python",
   "pygments_lexer": "ipython3",
   "version": "3.8.5"
  }
 },
 "nbformat": 4,
 "nbformat_minor": 5
}
